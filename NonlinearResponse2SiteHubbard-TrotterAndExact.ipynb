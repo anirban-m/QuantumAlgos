{
 "cells": [
  {
   "cell_type": "markdown",
   "metadata": {},
   "source": [
    "### Results in Parity Encoding\n",
    "System is a two site Hubbard dimer\n",
    "$H=-\\sum_{i,\\sigma}t(c^{\\dagger}_{i,\\sigma}c_{i+1,\\sigma}+h.c.)+U\\hat{n}_{1\\uparrow}\\hat{n}_{1\\downarrow}+U\\hat{n}_{2\\uparrow}\\hat{n}_{2\\downarrow}$\n",
    "\n",
    "which in parity encoding is defined as\n",
    "$H=-t*(IX+XI)+U*ZZ$"
   ]
  },
  {
   "cell_type": "markdown",
   "metadata": {},
   "source": [
    "$G_{2}(T,\\tau)=0.5\\theta(T)\\theta(\\tau)\\langle G|[[\\hat{n}_{0,\\uparrow}(T+\\tau),c^{\\dagger}_{0\\uparrow}(T)c_{1\\uparrow}(T)],c^{\\dagger}_{1\\uparrow}c_{0\\uparrow}]|G\\rangle$<br>\n",
    "$=0.5\\theta(T)\\theta(\\tau)\\bigg[\\langle G|\\hat{n}_{0,\\uparrow}(T+\\tau)c^{\\dagger}_{0\\uparrow}(T)c_{1\\uparrow}(T)c^{\\dagger}_{1\\uparrow}c_{0\\uparrow}|G\\rangle-\\langle G|c^{\\dagger}_{0\\uparrow}(T)c_{1\\uparrow}(T)\\hat{n}_{0,\\uparrow}(T+\\tau)c^{\\dagger}_{1\\uparrow}c_{0\\uparrow}|G\\rangle-\\langle G|c^{\\dagger}_{1\\uparrow}c_{0\\uparrow}\\hat{n}_{0,\\uparrow}(T+\\tau)c^{\\dagger}_{0\\uparrow}(T)c_{1\\uparrow}(T)|G\\rangle\n",
    "+\\langle G|c^{\\dagger}_{1\\uparrow}c_{0\\uparrow}c^{\\dagger}_{0\\uparrow}(T)c_{1\\uparrow}(T)\\hat{n}_{0,\\uparrow}(T+\\tau)|G\\rangle\\bigg]$"
   ]
  },
  {
   "cell_type": "markdown",
   "metadata": {},
   "source": [
    "$\\langle G|\\hat{n}_{0,\\uparrow}(T+\\tau)c^{\\dagger}_{0\\uparrow}(T)c_{1\\uparrow}(T)c^{\\dagger}_{1\\uparrow}c_{0\\uparrow}|G\\rangle=\\frac{1}{8}\\langle G|e^{iH(T+\\tau)}(II-IZ)e^{-iH(T+\\tau)}e^{iHT}(IX-iIY)e^{-iHT}(IX+iIY)|G \\rangle$<br>\n",
    "$\\langle G|c^{\\dagger}_{0\\uparrow}(T)c_{1\\uparrow}(T)\\hat{n}_{0,\\uparrow}(T+\\tau)c^{\\dagger}_{1\\uparrow}c_{0\\uparrow}|G\\rangle=\\frac{1}{8}\\langle G|e^{iHT}(IX-iIY)e^{-iHT}e^{iH(T+\\tau)}(II-IZ)e^{-iH(T+\\tau)}(IX+iIY)|G \\rangle$<br>\n",
    "$\\langle G|c^{\\dagger}_{1\\uparrow}c_{0\\uparrow}\\hat{n}_{0,\\uparrow}(T+\\tau)c^{\\dagger}_{0\\uparrow}(T)c_{1\\uparrow}(T)|G\\rangle=\\frac{1}{8}\\langle G|(IX+iIY)e^{iH(T+\\tau)}(II-IZ)e^{-iH(T+\\tau)}e^{iHT}(IX-iIY)e^{-iHT}|G \\rangle$<br>\n",
    "$\\langle G|c^{\\dagger}_{1\\uparrow}c_{0\\uparrow}c^{\\dagger}_{0\\uparrow}(T)c_{1\\uparrow}(T)\\hat{n}_{0,\\uparrow}(T+\\tau)|G\\rangle=\\frac{1}{8}\\langle G|(IX+iIY)e^{iHT}(IX-iIY)e^{-iHT}e^{iH(T+\\tau)}(II-IZ)e^{-iH(T+\\tau)}|G \\rangle$"
   ]
  },
  {
   "cell_type": "markdown",
   "metadata": {},
   "source": [
    "$|00\\rangle|\\Psi\\rangle$<br>\n",
    "<br>\n",
    "1.Apply $h_{1},h_{2}$ and $U3(\\phi)$<br>\n",
    "$\\frac{1}{2}\\left[|00\\rangle|\\Psi\\rangle+e^{i\\phi_{1}}|01\\rangle|\\Psi\\rangle+e^{i\\phi_{2}}|10\\rangle|\\Psi\\rangle+e^{i(\\phi_{2}+\\phi_{3})}|11\\rangle|\\Psi\\rangle\\right]$<br>\n",
    "<br>\n",
    "2.Apply $11$-Controlled-$O_{1}$<br>\n",
    "$\\frac{1}\n",
    "{2}\\left[|00\\rangle|\\Psi\\rangle+|01\\rangle|\\Psi\\rangle+|10\\rangle|\\Psi\\rangle+C_{O_{1}}|11\\rangle|\\Psi\\rangle\\right]$<br>\n",
    "<br>\n",
    "3.Apply $U(T)$<br>\n",
    "$\\frac{1}{2}\\left[U(T)|00\\rangle|\\Psi\\rangle+U(T)|01\\rangle|\\Psi\\rangle+U(T)|10\\rangle|\\Psi\\rangle+U(T)C_{O_{1}}|11\\rangle|\\Psi\\rangle\\right]$<br>\n",
    "<br>\n",
    "4.Apply $11$-Controlled-$O_{2}$<br>\n",
    "$\\frac{1}{2}\\left[U(T)|00\\rangle|\\Psi\\rangle+U(T)|01\\rangle|\\Psi\\rangle+U(T)|10\\rangle|\\Psi\\rangle+C_{O_{2}}U(T)C_{O_{1}}|11\\rangle|\\Psi\\rangle\\right]$<br>\n",
    "<br>\n",
    "5.Apply $U(\\tau)$<br>\n",
    "$\\frac{1}{2}\\left[U(T+\\tau)|00\\rangle|\\Psi\\rangle+U(T+\\tau)|01\\rangle|\\Psi\\rangle+U(T+\\tau)|10\\rangle|\\Psi\\rangle+U(\\tau)C_{O_{2}}U(T)C_{O_{1}}|11\\rangle|\\Psi\\rangle\\right]$<br>\n",
    "<br>\n",
    "6.Apply $10$-Controlled-$O_{3}$<br>\n",
    "$\\frac{1}{2}\\left[U(T+\\tau)|00\\rangle|\\Psi\\rangle+U(T+\\tau)|01\\rangle|\\Psi\\rangle+C_{O_{3}}U(T+\\tau)|10\\rangle|\\Psi\\rangle+U(\\tau)C_{O_{2}}U(T)C_{O_{1}}|11\\rangle|\\Psi\\rangle\\right]$<br>\n",
    "<br>\n",
    "7.Apply $U(-\\tau)$<br>\n",
    "$\\frac{1}{2}\\left[U(T)|00\\rangle|\\Psi\\rangle+U(T)|01\\rangle|\\Psi\\rangle+U(-\\tau)C_{O_{3}}U(T+\\tau)|10\\rangle|\\Psi\\rangle+C_{O_{2}}U(T)C_{O_{1}}|11\\rangle|\\Psi\\rangle\\right]$<br>\n",
    "<br>\n",
    "8.Apply $10$-Controlled-$O_{1}$<br>\n",
    "$\\frac{1}{2}\\left[U(T)|00\\rangle|\\Psi\\rangle+C_{O_{1}}U(T)|01\\rangle|\\Psi\\rangle+U(-\\tau)C_{O_{3}}U(T+\\tau)|10\\rangle|\\Psi\\rangle+C_{O_{2}}U(T)C_{O_{1}}|11\\rangle|\\Psi\\rangle\\right]$<br>\n",
    "<br>\n",
    "9.Apply $U(\\tau)$<br>\n",
    "$\\frac{1}{2}\\left[U(T+\\tau)|00\\rangle|\\Psi\\rangle+U(\\tau)C_{O_{1}}U(T)|01\\rangle|\\Psi\\rangle+C_{O_{3}}U(T+\\tau)|10\\rangle|\\Psi\\rangle+U(\\tau)C_{O_{2}}U(T)C_{O_{1}}|11\\rangle|\\Psi\\rangle\\right]$<br>\n",
    "<br>\n",
    "10.Apply $01$-Controlled-$O_{3}$<br>\n",
    "$\\frac{1}{2}\\left[U(T+\\tau)|00\\rangle|\\Psi\\rangle+C_{O_{3}}U(\\tau)C_{O_{1}}U(T)|01\\rangle|\\Psi\\rangle+C_{O_{3}}U(T+\\tau)|10\\rangle|\\Psi\\rangle+U(\\tau)C_{O_{2}}U(T)C_{O_{1}}|11\\rangle|\\Psi\\rangle\\right]$<br>\n",
    "<br>\n",
    "11.Apply $U(-T-\\tau)$<br>\n",
    "$\\frac{1}{2}\\left[|00\\rangle|\\Psi\\rangle+U(-T-\\tau)C_{O_{3}}U(\\tau)C_{O_{1}}U(T)|01\\rangle|\\Psi\\rangle+C_{O_{3}}U(T+\\tau)|10\\rangle|\\Psi\\rangle+U(\\tau)C_{O_{2}}U(T)C_{O_{1}}|11\\rangle|\\Psi\\rangle\\right]$<br>\n",
    "<br>\n",
    "12.Apply $00$-Controlled-$O_{2}$<br>\n",
    "$\\frac{1}{2}\\left[C_{O_{2}}|00\\rangle|\\Psi\\rangle+U(-T-\\tau)C_{O_{3}}U(\\tau)C_{O_{1}}U(T)|01\\rangle|\\Psi\\rangle+C_{O_{3}}U(T+\\tau)|10\\rangle|\\Psi\\rangle+U(\\tau)C_{O_{2}}U(T)C_{O_{1}}|11\\rangle|\\Psi\\rangle\\right]$<br>\n",
    "<br>\n",
    "$Tr(|00\\rangle\\langle 01|\\Psi\\rangle\\langle\\Psi|)=e^{-i\\phi_{1}}\\langle\\Psi|U(-T)C_{O_{2}}U(\\tau)C_{O_{3}}U(T+\\tau)C_{O_{1}}|\\Psi\\rangle$<br>\n",
    "$Tr(|10\\rangle\\langle 11|\\Psi\\rangle\\langle\\Psi|)=e^{-i\\phi_{3}}\\langle\\Psi|U(T+\\tau)C_{O_{3}}U(\\tau)C_{O_{2}}U(T)C_{O_{1}}|\\Psi\\rangle$"
   ]
  },
  {
   "cell_type": "code",
   "execution_count": 1,
   "metadata": {},
   "outputs": [],
   "source": [
    "# imports\n",
    "import warnings\n",
    "warnings. filterwarnings('ignore')\n",
    "import numpy\n",
    "import copy\n",
    "import numpy as np\n",
    "import qiskit\n",
    "from qiskit.opflow.primitive_ops import PauliSumOp\n",
    "from qiskit.providers.aer import AerSimulator\n",
    "from qiskit.circuit.library import MCMT\n",
    "from qpsolvers import solve_qp\n",
    "from  qiskit.chemistry import FermionicOperator\n",
    "from qiskit.aqua.operators import op_converter\n",
    "from qiskit_nature.converters.second_quantization import QubitConverter\n",
    "from qiskit_nature.mappers.second_quantization import JordanWignerMapper,ParityMapper\n",
    "from qiskit_nature.problems.second_quantization.electronic.builders import fermionic_op_builder\n",
    "from qiskit.aqua.operators.legacy.op_converter import to_weighted_pauli_operator\n",
    "from qiskit.chemistry.components.variational_forms import UCCSD\n",
    "from qiskit.aqua.components.optimizers import L_BFGS_B\n",
    "from qiskit import Aer\n",
    "from qiskit.quantum_info import Pauli\n",
    "from qiskit.aqua.operators import WeightedPauliOperator,Z2Symmetries\n",
    "from qiskit.aqua.operators.legacy import op_converter\n",
    "from qiskit.aqua.algorithms import VQE\n",
    "from qiskit.aqua import QuantumInstance\n",
    "from tqdm import tqdm\n",
    "import ipyparallel as ipp\n",
    "from joblib import Parallel, delayed\n",
    "import itertools\n",
    "from qiskit.circuit.random import random_circuit\n",
    "from qiskit import QuantumRegister, QuantumCircuit, execute, ClassicalRegister\n",
    "from qiskit.circuit import Parameter\n",
    "from qiskit.aqua.components.initial_states import Custom\n",
    "from qiskit.chemistry.components.initial_states import HartreeFock\n",
    "import scipy\n",
    "import matplotlib.pyplot as plt\n",
    "from qiskit.quantum_info import partial_trace, Statevector"
   ]
  },
  {
   "cell_type": "markdown",
   "metadata": {},
   "source": [
    "$e^{-it(H_{1}+H_{2})}\\approx e^{-i\\frac{t}{2}H_{1}}e^{-itH_{2}}e^{-i\\frac{t}{2}H_{1}}O(t^{2})$<br>\n",
    "$e^{-i\\frac{t}{2}H_{2}}e^{-i\\frac{t}{2}H_{1}}=e^{-i\\frac{t}{2}\\left(H_{1}+H_{2}\\right)}e^{\\frac{t^{2}}{8}[H_{1},H_{2}]}$<br>\n",
    "$e^{-i\\frac{t}{2}H_{1}}e^{-itH_{2}}e^{-i\\frac{t}{2}H_{1}}=e^{-i\\frac{t}{2}\\left(H_{1}+H_{2}\\right)}e^{-\\frac{t^{2}}{8}[H_{1},H_{2}]}e^{-i\\frac{t}{2}\\left(H_{1}+H_{2}\\right)}e^{\\frac{t^{2}}{8}[H_{1},H_{2}]}$"
   ]
  },
  {
   "cell_type": "code",
   "execution_count": 2,
   "metadata": {},
   "outputs": [],
   "source": [
    "# 2 site Hubbard dimer model parameters\n",
    "t = 1 #hopping factor\n",
    "U = 2 #coulomb repulsion factor\n",
    "mu = U/2 #chemical potential factor\n",
    "num_sites=2\n",
    "num_qubits=2*num_sites-2"
   ]
  },
  {
   "cell_type": "code",
   "execution_count": 3,
   "metadata": {},
   "outputs": [],
   "source": [
    "def qubitOp(h1,h2):\n",
    "    fermion_op=FermionicOperator(h1=h1,h2=h2) # Fermionic Hamiltonian\n",
    "    qubit_op=fermion_op.mapping('parity')\n",
    "    qubit_op=Z2Symmetries.two_qubit_reduction(qubit_op,2)\n",
    "    return qubit_op\n",
    "def HubbardHamiltonian(U,t,num_spin_orbitals,num_particles):\n",
    "        h1=numpy.zeros((4,4))\n",
    "        h2=numpy.zeros((4,4,4,4))\n",
    "        num_sites=int(num_spin_orbitals/2.)\n",
    "        for i in range(num_sites-1):\n",
    "            h1[i,i+1]=h1[i+1,i]=-t\n",
    "            h1[i+num_sites,i+1+num_sites]=h1[i+1+num_sites,i+num_sites]=-t\n",
    "        h1[0,num_sites-1]=h1[num_sites-1,0]=-t\n",
    "        h1[num_sites,2*num_sites-1]=h1[2*num_sites-1,num_sites]=-t\n",
    "        for i in range(num_sites):\n",
    "            h2[i,i,i+num_sites,i+num_sites]=U\n",
    "        qubitH=qubitOp(h1,h2)     \n",
    "        return qubitH"
   ]
  },
  {
   "cell_type": "code",
   "execution_count": 4,
   "metadata": {},
   "outputs": [],
   "source": [
    "qubitH=HubbardHamiltonian(2,1,4,2)\n",
    "Paulis=qubitH.paulis\n",
    "Paulis=Paulis[0:2]+[Paulis[3]]\n",
    "qubitH_new=WeightedPauliOperator(Paulis)\n",
    "H_mat=op_converter.to_matrix_operator(qubitH_new).dense_matrix\n",
    "w,v=numpy.linalg.eigh(H_mat)\n",
    "Eg=w[0]\n",
    "state_g=v[:,0]"
   ]
  },
  {
   "cell_type": "code",
   "execution_count": 5,
   "metadata": {},
   "outputs": [
    {
     "data": {
      "text/plain": [
       "-2.236067977499789"
      ]
     },
     "execution_count": 5,
     "metadata": {},
     "output_type": "execute_result"
    }
   ],
   "source": [
    "Eg"
   ]
  },
  {
   "cell_type": "code",
   "execution_count": 6,
   "metadata": {},
   "outputs": [
    {
     "name": "stdout",
     "output_type": "stream",
     "text": [
      "[[(-0.9999999999999997+0j), Pauli('IX')], [(-0.9999999999999997+0j), Pauli('XI')], [(0.9999999999999997+0j), Pauli('II')], [(-0.9999999999999997+0j), Pauli('ZZ')]]\n"
     ]
    }
   ],
   "source": [
    "print(qubitH.paulis)"
   ]
  },
  {
   "cell_type": "code",
   "execution_count": 14,
   "metadata": {},
   "outputs": [],
   "source": [
    "def TimeEvolutionOperator(T):\n",
    "    return v@numpy.diag(numpy.exp(-1j*w*T))@numpy.conjugate(v.T)"
   ]
  },
  {
   "cell_type": "code",
   "execution_count": 26,
   "metadata": {},
   "outputs": [],
   "source": [
    "def group_H_terms(qubitH):\n",
    "    Paulis=qubitH.paulis\n",
    "    individual_ops=[WeightedPauliOperator([Paulis[i]]) for i in range(len(Paulis))]\n",
    "    groups=[individual_ops[0]]\n",
    "    for i in range(1,len(individual_ops)):\n",
    "        flag=True\n",
    "        for j in range(len(groups)):\n",
    "            if groups[j].commute_with(individual_ops[i])==True:\n",
    "                groups[j].add(individual_ops[i])\n",
    "                flag=False\n",
    "        if flag==True:\n",
    "            groups.append(individual_ops[i])\n",
    "    return groups\n",
    "def TrotterCircuit(t,T,qubitH,split_factors):\n",
    "    groups=group_H_terms(qubitH)\n",
    "    gate_ops=[]\n",
    "    for i in range(len(groups)):\n",
    "        Paulis=groups[i].paulis\n",
    "        qr=QuantumRegister(num_qubits,'q')\n",
    "        qrs=[qr[i] for i in range(len(qr))]\n",
    "        qc=QuantumCircuit(qr)\n",
    "        for j in range(len(Paulis)):\n",
    "            theta=-1*t*Paulis[j][0]*split_factors[i]\n",
    "            U=PauliSumOp.from_list([[Paulis[j][1].to_label(),1j*numpy.sin(theta)],['I'*num_qubits,numpy.cos(theta)]])\n",
    "            Str=str(Paulis[j][1].to_label())\n",
    "            Ugate=U.to_circuit().to_gate(label='R('+Str+')')\n",
    "            qc.append(Ugate,qrs)\n",
    "        Opgate=qc.to_gate(label='Op'+str(i))    \n",
    "        gate_ops.append(Opgate)\n",
    "    circ_single_Trotter_step=QuantumCircuit(qr)\n",
    "    circ_single_Trotter_step.append(gate_ops[1],qrs)\n",
    "    circ_single_Trotter_step.append(gate_ops[0],qrs)\n",
    "    circ_single_Trotter_step.append(gate_ops[1],qrs)\n",
    "    sign=numpy.sign(T)\n",
    "    if sign==-1:\n",
    "        circ_single_Trotter_step=circ_single_Trotter_step.inverse()\n",
    "    circ_single_Trotter_step_gate=circ_single_Trotter_step.to_gate(label='1-Trotter-step')\n",
    "    time_evolve_circ=QuantumCircuit(qr)\n",
    "    N=int(numpy.round(numpy.abs(T)/t))\n",
    "    for i in range(N):\n",
    "        time_evolve_circ.append(circ_single_Trotter_step_gate,qr)\n",
    "    #time_evolve_circ_gate=time_evolve_circ.to_gate(label='Trotter-Evolve')    \n",
    "    return time_evolve_circ"
   ]
  },
  {
   "cell_type": "code",
   "execution_count": 68,
   "metadata": {},
   "outputs": [
    {
     "name": "stdout",
     "output_type": "stream",
     "text": [
      "(0.999978330689236-0.0043557230210222175j) 2.9689798999997947\n"
     ]
    }
   ],
   "source": [
    "from time import time\n",
    "t1=time()\n",
    "t=0.08\n",
    "T=3.2\n",
    "split_factors=[1,0.5]\n",
    "circ_trotter=TrotterCircuit(t,T,qubitH_new,split_factors)\n",
    "rand_gate=random_circuit(2,4).to_gate(label='ansatz')\n",
    "qr=QuantumRegister(2,'q')\n",
    "qc=QuantumCircuit(qr)\n",
    "qc.append(rand_gate,[qr[0],qr[1]])\n",
    "qc1=qc.copy()\n",
    "qc1.append(circ_trotter,qr)\n",
    "qc.unitary(TimeEvolutionOperator(T),qr)\n",
    "state=numpy.array(execute(qc,Aer.get_backend('statevector_simulator')).result().get_statevector())\n",
    "state1=numpy.array(execute(qc1,Aer.get_backend('statevector_simulator')).result().get_statevector())\n",
    "print(state@state1.conj(),time()-t1)"
   ]
  },
  {
   "cell_type": "code",
   "execution_count": 62,
   "metadata": {},
   "outputs": [
    {
     "data": {
      "text/plain": [
       "(0.9985459477537482+0j)"
      ]
     },
     "execution_count": 62,
     "metadata": {},
     "output_type": "execute_result"
    }
   ],
   "source": [
    "(0.999201271766402+0.011948483341115312j)*(0.999201271766402-0.011948483341115312j)"
   ]
  },
  {
   "cell_type": "code",
   "execution_count": 69,
   "metadata": {},
   "outputs": [],
   "source": [
    "n_0=qubitOp(numpy.array([[1.0,0.0,0.0,0.0],\n",
    "                          [0.0,0.0,0.0,0.0],\n",
    "                          [0.0,0.0,0.0,0.0],\n",
    "                          [0.0,0.0,0.0,0.0]]),numpy.zeros((4,4,4,4)))\n",
    "cdag_0c_1=qubitOp(numpy.array([[0.0,1.0,0.0,0.0],\n",
    "                                [0.0,0.0,0.0,0.0],\n",
    "                                [0.0,0.0,0.0,0.0],\n",
    "                                [0.0,0.0,0.0,0.0]]),numpy.zeros((4,4,4,4)))\n",
    "cdag_1c_0=qubitOp(numpy.array([[0.0,0.0,0.0,0],\n",
    "                                [1,0.0,0.0,0.0],\n",
    "                                [0.0,0.0,0.0,0.0],\n",
    "                                [0.0,0.0,0.0,0.0]]),numpy.zeros((4,4,4,4)))"
   ]
  },
  {
   "cell_type": "code",
   "execution_count": 70,
   "metadata": {},
   "outputs": [
    {
     "name": "stdout",
     "output_type": "stream",
     "text": [
      "[[(0.49999999999999983+0j), Pauli('II')], [(-0.49999999999999983+0j), Pauli('IZ')]]\n",
      "[[-0.49999999999999983j, Pauli('IY')], [(0.49999999999999983+0j), Pauli('IX')]]\n",
      "[[0.49999999999999983j, Pauli('IY')], [(0.49999999999999983+0j), Pauli('IX')]]\n"
     ]
    },
    {
     "data": {
      "text/plain": [
       "(None, None, None)"
      ]
     },
     "execution_count": 70,
     "metadata": {},
     "output_type": "execute_result"
    }
   ],
   "source": [
    "Ops=[cdag_1c_0,cdag_0c_1,n_0]\n",
    "n_0_str=n_0.paulis\n",
    "cdag_0c_1_str=cdag_0c_1.paulis\n",
    "cdag_1c_0_str=cdag_1c_0.paulis\n",
    "print(n_0_str),print(cdag_0c_1_str),print(cdag_1c_0_str)"
   ]
  },
  {
   "cell_type": "code",
   "execution_count": 71,
   "metadata": {},
   "outputs": [],
   "source": [
    "n_0_str=n_0.paulis\n",
    "cdag_0c_1_str=cdag_0c_1.paulis\n",
    "cdag_1c_0_str=cdag_1c_0.paulis\n",
    "n_0_str,cdag_0c_1_str,cdag_1c_0_str\n",
    "O=[cdag_1c_0_str,cdag_0c_1_str,n_0_str]\n",
    "def generate_pathway_string(O1,O2,O3,path):\n",
    "    Str=[]\n",
    "    for i in range(len(O1)):\n",
    "        for j in range(len(O2)):\n",
    "            for k in range(len(O3)):\n",
    "                coeff=numpy.round(8*O1[i][0]*O2[j][0]*O3[k][0])\n",
    "                coeff=str(numpy.int(coeff.real)) if coeff.imag==0 else str(numpy.int(coeff.imag))+'j'\n",
    "                Str=Str+[path+'@'+O1[i][1].to_label()+'|'+O2[j][1].to_label()+'|'+O3[k][1].to_label()+'@'+coeff]\n",
    "    return Str        "
   ]
  },
  {
   "cell_type": "markdown",
   "metadata": {},
   "source": [
    "# Constructing nonlinear response function\n",
    "\\begin{eqnarray}\n",
    "H_{1}|0G\\rangle &=&\\frac{1}{\\sqrt{2}}[|0\\rangle+|1\\rangle]|G\\rangle\\rightarrow|\\Psi\\rangle\\\\\n",
    "C_{P_{1}}|\\Psi\\rangle &=&\\frac{1}{\\sqrt{2}}[|0\\rangle |G\\rangle +|1\\rangle P_{1}|G\\rangle]\\to|\\Psi\\rangle\\\\\n",
    "e^{-iHT_{1}}|\\Psi\\rangle&=&\\frac{1}{\\sqrt{2}}[e^{-iHT_{1}}|0\\rangle |G\\rangle +e^{-iHT_{1}}|1\\rangle P_{1}|G\\rangle]\\to |\\Psi\\rangle\\\\\n",
    "\\mathbf{U_{HVA}(\\theta)|\\Psi\\rangle}&=&\\mathbf{\\frac{1}{\\sqrt{2}}[e^{-iHT_{1}}|0\\rangle |G\\rangle +e^{-iHT_{1}}|1\\rangle P_{1}|G\\rangle]\\to |\\Psi\\rangle}\\nonumber\\\\\n",
    "C_{P_{2}}|\\Psi\\rangle &=&\\frac{1}{\\sqrt{2}}[e^{-iHT_{1}}|0\\rangle |G\\rangle +P_{2}e^{-iHT_{1}}|1\\rangle P_{1}|G\\rangle]\\rightarrow|\\Psi\\rangle\\to |\\Psi\\rangle\\\\\n",
    "e^{iH(T_{1}-T_{2})}|\\Psi\\rangle&=&\\frac{1}{\\sqrt{2}}[e^{-iHT_{2}}|0\\rangle |G\\rangle +e^{iH(T_{1}-T_{2})}P_{2}e^{-iHT_{1}}|1\\rangle P_{1}|G\\rangle]\\rightarrow|\\Psi\\rangle\\\\\n",
    "C_{P_{3}}|\\Psi\\rangle&=&\\frac{1}{\\sqrt{2}}[e^{-iHT_{2}}|0\\rangle |G\\rangle +P_{3}e^{iH(T_{1}-T_{2})}P_{2}e^{-iHT_{1}}|1\\rangle P_{1}|G\\rangle]\\rightarrow|\\Psi\\rangle\n",
    "\\end{eqnarray}\n",
    "$Tr_{A}(|\\Psi\\rangle \\langle\\Psi|0\\rangle\\langle 1|)+c.c.=\\sum_{P_{3}}Re\\langle G|e^{iHT_{2}}P_{3}e^{iH(T_{1}-T_{2})}P_{2}e^{-iHT_{1}}P_{1}|G\\rangle$"
   ]
  },
  {
   "cell_type": "code",
   "execution_count": 72,
   "metadata": {},
   "outputs": [],
   "source": [
    "backend = Aer.get_backend('statevector_simulator')\n",
    "def add_multiqubit_gate(pauli_string, param, circuit):\n",
    "    num_qubits=2\n",
    "    qr=QuantumRegister(num_qubits,'q')\n",
    "    if pauli_string == 'I'*num_qubits:\n",
    "        gate = 1\n",
    "        for j in range(len(pauli_string)):\n",
    "            gate = numpy.kron(gate, Pauli('I').to_matrix())\n",
    "        gate *= -1j * np.sin(param)\n",
    "        gate += numpy.cos(param) * np.eye(4)\n",
    "        circuit.unitary(gate, qr, label=pauli_string)\n",
    "    else:\n",
    "        qubits_to_act_on = []\n",
    "        gate = 1\n",
    "        for j in range(len(pauli_string)):\n",
    "            if pauli_string[j] != 'I':\n",
    "                gate=numpy.kron(Pauli(pauli_string[j]).to_matrix(),gate)\n",
    "                qubits_to_act_on.append(num_qubits-j-1)\n",
    "        gate *= (-1j * numpy.sin(param))\n",
    "        gate += numpy.cos(param) * numpy.eye(2**len(qubits_to_act_on))\n",
    "        List_regs=[qr[i] for i in qubits_to_act_on]\n",
    "        circuit.unitary(gate, List_regs, label = pauli_string)\n",
    "    return circuit    "
   ]
  },
  {
   "cell_type": "code",
   "execution_count": 73,
   "metadata": {},
   "outputs": [],
   "source": [
    "def create_adapt_ground_state_circuit():\n",
    "    labels = ['IY', 'YI', 'XY']\n",
    "    params = [-1.5707975986444207, 0.5535728725993049, 0.7853974185347923]\n",
    "    qr=QuantumRegister(num_qubits,'q')\n",
    "    circuit = QuantumCircuit(qr)\n",
    "    circuit.x(0)\n",
    "    for i in range(len(labels)):\n",
    "        circuit=add_multiqubit_gate(labels[i], params[i], circuit)\n",
    "    return circuit\n",
    "def add_ancillas(circ):#one for response func measurement,another for measuring M and V for McLachlan\n",
    "    circ1=circ.copy()\n",
    "    circ1.add_register(a)\n",
    "    circ1.h(a)\n",
    "    circ1.u1(phi,a[0])\n",
    "    return circ1"
   ]
  },
  {
   "cell_type": "code",
   "execution_count": 74,
   "metadata": {},
   "outputs": [],
   "source": [
    "#ground state ansatz\n",
    "gs_circ=create_adapt_ground_state_circuit()\n",
    "#create ancillas\n",
    "a=QuantumRegister(1,'a')\n",
    "b=QuantumRegister(1,'b')\n",
    "phi=Parameter('phi')\n",
    "circ=add_ancillas(gs_circ)\n",
    "state2=numpy.array(execute(gs_circ,Aer.get_backend('statevector_simulator')).result().get_statevector())"
   ]
  },
  {
   "cell_type": "code",
   "execution_count": 75,
   "metadata": {},
   "outputs": [],
   "source": [
    "def add_ancilla_ctrl_pauli(pauli_string,circuit,anc):\n",
    "    #pauli strings can only be supplied with either purely X based gates or Z based gates or Y based gates\n",
    "    circuit1=circuit.copy()\n",
    "    qr=QuantumRegister(num_qubits,'q')\n",
    "    if pauli_string=='I'*num_qubits:\n",
    "        return circuit1\n",
    "    else:\n",
    "        pauli_str=numpy.array(list(pauli_string))[::-1]\n",
    "        pauli_str_X_indexes=numpy.where(pauli_str=='X')[0]\n",
    "        pauli_str_Z_indexes=numpy.where(pauli_str=='Z')[0]\n",
    "        pauli_str_Y_indexes=numpy.where(pauli_str=='Y')[0]\n",
    "        pauli_gate_indexes=list(pauli_str_X_indexes) if len(pauli_str_X_indexes)!=0 else list(pauli_str_Z_indexes) if len(pauli_str_Z_indexes) else list(pauli_str_Y_indexes)\n",
    "        oneCMT_gate=MCMT('x',1,len(pauli_str_X_indexes),label=pauli_string) if len(pauli_str_X_indexes)!=0 else MCMT('z',1,len(pauli_str_Z_indexes),label=pauli_string) if len(pauli_str_Z_indexes)!=0 else MCMT('y',1,len(pauli_str_Y_indexes),label=pauli_string) \n",
    "        gate=oneCMT_gate.to_instruction()\n",
    "        circuit2=QuantumCircuit(qr,anc)\n",
    "        regs=[qr[i] for i in pauli_gate_indexes]\n",
    "        circuit2.append(gate,[anc[0]]+regs)\n",
    "        circuit1=circuit1+circuit2.decompose()\n",
    "    return circuit1"
   ]
  },
  {
   "cell_type": "code",
   "execution_count": 78,
   "metadata": {},
   "outputs": [],
   "source": [
    "def G_method2(O1,O2,O3,T,tau,path):\n",
    "    def response_func(exc_ord,time_path):\n",
    "        exc_list=exc_ord.split('|')\n",
    "        exc_ord=[]\n",
    "        for i in range(len(exc_list)):\n",
    "            ops=exc_list[i].split('#')\n",
    "            exc_ord.append(ops)\n",
    "        qr=QuantumRegister(num_qubits,'q')\n",
    "        #constructing ground state ansatz\n",
    "        gs_circ=create_adapt_ground_state_circuit()\n",
    "        #add ancilla\n",
    "        circ=add_ancillas(gs_circ)\n",
    "        #add ancilla controlled exc gate 1\n",
    "        for i in range(len(exc_ord[0])):\n",
    "            circ=add_ancilla_ctrl_pauli(exc_ord[0][i],circ,a)     \n",
    "        #time evolution 1\n",
    "        #U_t1= TimeEvolutionOperator(time_path[0])\n",
    "        #circ.unitary(U_t1,qr)\n",
    "        ti=time()\n",
    "        U_t1=TrotterCircuit(0.08,time_path[0],qubitH_new,[1,0.5])\n",
    "        print(\"time for 1st trotter-evolve\",time()-ti)\n",
    "        circ.append(U_t1,[qr[0],qr[1]])\n",
    "\n",
    "        #add_ancilla_controlled_exc_gate 2\n",
    "        for i in range(len(exc_ord[1])):\n",
    "            circ=add_ancilla_ctrl_pauli(exc_ord[1][i],circ,a)\n",
    "            \n",
    "        #time evolution 2\n",
    "        #U_t2= TimeEvolutionOperator(time_path[1])\n",
    "        #circ.unitary(U_t2,qr)\n",
    "        ti=time()\n",
    "        U_t2=TrotterCircuit(0.08,time_path[1],qubitH_new,[1,0.5])\n",
    "        print(\"time for 2nd trotter-evolve\",time()-ti)\n",
    "        circ.append(U_t2,[qr[0],qr[1]])\n",
    "        #add ancilla controlled_exc_gate_3\n",
    "        for i in range(len(exc_ord[2])):\n",
    "            circ=add_ancilla_ctrl_pauli(exc_ord[2][i],circ,a)\n",
    "        circ.h(a)\n",
    "        circ_arr=[circ.copy(),circ.copy()]\n",
    "        circ1=circ_arr[0].bind_parameters({phi:0})\n",
    "        circ2=circ_arr[1].bind_parameters({phi:numpy.pi/2.})\n",
    "        #c=ClassicalRegister(1,'c')\n",
    "        #circ1.add_register(c)\n",
    "        ti=time()\n",
    "        state1=execute(circ1,Aer.get_backend('statevector_simulator'),shots=1024).result().get_statevector()\n",
    "        G2_1=state1@Pauli('ZII').to_matrix()@numpy.conjugate(state1)\n",
    "        state2=execute(circ2,Aer.get_backend('statevector_simulator'),shots=1024).result().get_statevector()\n",
    "        G2_2=state2@Pauli('ZII').to_matrix()@numpy.conjugate(state2)\n",
    "        G2=G2_1-1j*G2_2\n",
    "        print(\"time for evaluation\",time()-ti,'\\n')\n",
    "        return G2\n",
    "    resp_fun=0\n",
    "    lines=generate_pathway_string(O1,O2,O3,path)\n",
    "    ind=None\n",
    "    for i in range(len(lines)):\n",
    "        path,exc_ord,coeff=lines[i].split('@')\n",
    "        if path=='A':\n",
    "            time_path=[T,tau]\n",
    "            component=response_func(exc_ord,time_path)\n",
    "            resp_fun=resp_fun-(1/16.)*component*complex(coeff) \n",
    "        elif path=='B':\n",
    "            time_path=[T+tau,-tau]\n",
    "            component=response_func(exc_ord,time_path)\n",
    "            resp_fun=resp_fun+(1/16.)*component*complex(coeff)  \n",
    "    print(\"*********\")        \n",
    "    return resp_fun"
   ]
  },
  {
   "cell_type": "code",
   "execution_count": 77,
   "metadata": {},
   "outputs": [],
   "source": [
    "def G_method1(O1,O2,O3,T,tau,path):\n",
    "    O1=op_converter.to_matrix_operator(O1).dense_matrix\n",
    "    O2=op_converter.to_matrix_operator(O2).dense_matrix\n",
    "    O3=op_converter.to_matrix_operator(O3).dense_matrix\n",
    "    backend=Aer.get_backend('statevector_simulator')\n",
    "    gs_circ=create_adapt_ground_state_circuit()\n",
    "    state_g=numpy.array(execute(gs_circ,backend).result().get_statevector())\n",
    "#     PauliOp1=PauliSumOp.from_list([('IX',1),('IY',1j)])\n",
    "#     PauliOp2=PauliOp1.adjoint()\n",
    "#     PauliOp3=PauliSumOp.from_list([('IZ',-1),('II',1)])\n",
    "    if path=='A':\n",
    "        U_t1= TimeEvolutionOperator(T)\n",
    "        U_t2= TimeEvolutionOperator(tau)\n",
    "        corr=(-1/2.)*state_g.conj().T@(U_t1.conj().T@U_t2.conj().T@O3@U_t2@U_t1)@(U_t1.conj().T@O2@U_t1)@O1@state_g\n",
    "    elif path=='B':\n",
    "        U_t1= TimeEvolutionOperator(T+tau)\n",
    "        U_t2= TimeEvolutionOperator(-tau)\n",
    "        corr=(-1/2.)*state_g.conj().T@(U_t1.conj().T@U_t2.conj().T@O3@U_t2@U_t1)@(U_t1.conj().T@O2@U_t1)@O1@state_g\n",
    "    elif path=='C':\n",
    "        U_t1= TimeEvolutionOperator(T)\n",
    "        U_t2= TimeEvolutionOperator(tau)\n",
    "        corr=(-1/2.)*state_g.conj().T@O3@(U_t1.conj().T@U_t2.conj().T@O2@U_t2@U_t1)@(U_t1.conj().T@O1@U_t1)@state_g\n",
    "    elif path=='D':\n",
    "        U_t1= TimeEvolutionOperator(T+tau)\n",
    "        U_t2= TimeEvolutionOperator(-tau)\n",
    "        corr=(-1/2.)*state_g.conj().T@O3@(U_t1.conj().T@U_t2.conj().T@O2@U_t2@U_t1)@(U_t1.conj().T@O1@U_t1)@state_g\n",
    "    return corr\n",
    "def G_method1_complete(T,tau):\n",
    "    G_method1_val=(G_method1(Ops[0],Ops[1],Ops[2],T,tau,'A')-G_method1(Ops[0],Ops[2],Ops[1],T,tau,'B'))-1*(G_method1(Ops[1],Ops[2],Ops[0],T,tau,'C')-G_method1(Ops[2],Ops[1],Ops[0],T,tau,'D'))\n",
    "    return G_method1_val\n",
    "def G_method2_complete(T,tau):\n",
    "    G_method2_val=(G_method2(O[0],O[1],O[2],T,tau,'A')+G_method2(O[0],O[2],O[1],T,tau,'B')).imag\n",
    "    return G_method2_val*2"
   ]
  },
  {
   "cell_type": "code",
   "execution_count": 52,
   "metadata": {},
   "outputs": [
    {
     "name": "stdout",
     "output_type": "stream",
     "text": [
      "time for 1st trotter-evolve 0.04439639999986866\n",
      "time for 2nd trotter-evolve 0.03373719999990499\n",
      "time for evaluation 1.5152439999999388 \n",
      "\n",
      "time for 1st trotter-evolve 0.026525900000024194\n",
      "time for 2nd trotter-evolve 0.02670750000015687\n",
      "time for evaluation 1.4385166000001846 \n",
      "\n",
      "time for 1st trotter-evolve 0.028070800000023155\n",
      "time for 2nd trotter-evolve 0.02870270000016717\n",
      "time for evaluation 1.4455156999999872 \n",
      "\n",
      "time for 1st trotter-evolve 0.029195500000014363\n",
      "time for 2nd trotter-evolve 0.027952400000003763\n",
      "time for evaluation 1.4249598999999762 \n",
      "\n",
      "time for 1st trotter-evolve 0.02788220000002184\n",
      "time for 2nd trotter-evolve 0.029225300000007337\n",
      "time for evaluation 1.7422968999999284 \n",
      "\n",
      "time for 1st trotter-evolve 0.03003209999997125\n",
      "time for 2nd trotter-evolve 0.031513299999915034\n",
      "time for evaluation 1.6559712000000673 \n",
      "\n",
      "time for 1st trotter-evolve 0.030076400000098147\n",
      "time for 2nd trotter-evolve 0.030918900000187932\n",
      "time for evaluation 1.6610685000000558 \n",
      "\n",
      "time for 1st trotter-evolve 0.03775240000004487\n",
      "time for 2nd trotter-evolve 0.03490729999998621\n",
      "time for evaluation 1.548633099999961 \n",
      "\n",
      "*********\n",
      "time for 1st trotter-evolve 0.027994200000193814\n",
      "time for 2nd trotter-evolve 0.03221419999999853\n",
      "time for evaluation 14.258184300000039 \n",
      "\n",
      "time for 1st trotter-evolve 0.028371999999990294\n",
      "time for 2nd trotter-evolve 0.029662800000096468\n",
      "time for evaluation 13.68361989999994 \n",
      "\n",
      "time for 1st trotter-evolve 0.027713200000107463\n",
      "time for 2nd trotter-evolve 0.028641899999911402\n",
      "time for evaluation 2.465811799999983 \n",
      "\n",
      "time for 1st trotter-evolve 0.02771260000008624\n",
      "time for 2nd trotter-evolve 0.030138099999931\n",
      "time for evaluation 2.586379000000079 \n",
      "\n",
      "time for 1st trotter-evolve 0.026457199999867953\n",
      "time for 2nd trotter-evolve 0.03126679999991211\n",
      "time for evaluation 14.22644450000007 \n",
      "\n",
      "time for 1st trotter-evolve 0.029464299999972354\n",
      "time for 2nd trotter-evolve 0.03154339999991862\n",
      "time for evaluation 14.048509500000137 \n",
      "\n",
      "time for 1st trotter-evolve 0.03487879999988763\n",
      "time for 2nd trotter-evolve 0.029209399999899688\n",
      "time for evaluation 2.5426927999999407 \n",
      "\n",
      "time for 1st trotter-evolve 0.028301000000055865\n",
      "time for 2nd trotter-evolve 0.027982700000166005\n",
      "time for evaluation 2.4604001999998673 \n",
      "\n",
      "*********\n"
     ]
    },
    {
     "data": {
      "text/plain": [
       "(0.2279334083661464, (-8.441423553218197e-08+0.22802815164186208j))"
      ]
     },
     "execution_count": 52,
     "metadata": {},
     "output_type": "execute_result"
    }
   ],
   "source": [
    "G_method2_complete(0.2,0.8),G_method1_complete(0.2,0.8)"
   ]
  },
  {
   "cell_type": "code",
   "execution_count": 30,
   "metadata": {},
   "outputs": [
    {
     "data": {
      "text/plain": [
       "(0.0, 0.8)"
      ]
     },
     "execution_count": 30,
     "metadata": {},
     "output_type": "execute_result"
    }
   ],
   "source": [
    "T,tau"
   ]
  },
  {
   "cell_type": "code",
   "execution_count": null,
   "metadata": {
    "scrolled": true
   },
   "outputs": [
    {
     "name": "stderr",
     "output_type": "stream",
     "text": [
      "\r",
      "  0%|          | 0/41 [00:00<?, ?it/s]"
     ]
    },
    {
     "name": "stdout",
     "output_type": "stream",
     "text": [
      "0 0\n",
      "time for 1st trotter-evolve 0.01946700000007695\n",
      "time for 2nd trotter-evolve 0.018345700000281795\n",
      "time for evaluation 0.06674600000042119 \n",
      "\n",
      "time for 1st trotter-evolve 0.01677650000056019\n",
      "time for 2nd trotter-evolve 0.019294300000183284\n",
      "time for evaluation 0.04616280000027473 \n",
      "\n",
      "time for 1st trotter-evolve 0.01664470000014262\n",
      "time for 2nd trotter-evolve 0.018112599999767554\n",
      "time for evaluation 0.06023910000021715 \n",
      "\n",
      "time for 1st trotter-evolve 0.02082570000038686\n",
      "time for 2nd trotter-evolve 0.014884000000165543\n",
      "time for evaluation 0.04422759999943082 \n",
      "\n",
      "time for 1st trotter-evolve 0.01622880000013538\n",
      "time for 2nd trotter-evolve 0.015982099999746424\n",
      "time for evaluation 0.052252299999963725 \n",
      "\n",
      "time for 1st trotter-evolve 0.013847199999872828\n",
      "time for 2nd trotter-evolve 0.015152200000557059\n",
      "time for evaluation 0.04294170000048325 \n",
      "\n",
      "time for 1st trotter-evolve 0.014806500000304368\n",
      "time for 2nd trotter-evolve 0.01363020000007964\n",
      "time for evaluation 0.03212410000014643 \n",
      "\n",
      "time for 1st trotter-evolve 0.01661710000007588\n",
      "time for 2nd trotter-evolve 0.018014899999798217\n",
      "time for evaluation 0.04975170000034268 \n",
      "\n",
      "*********\n",
      "time for 1st trotter-evolve 0.01547610000034183\n",
      "time for 2nd trotter-evolve 0.015610600000400154\n",
      "time for evaluation 0.039412999999512977 \n",
      "\n",
      "time for 1st trotter-evolve 0.01509170000008453\n",
      "time for 2nd trotter-evolve 0.014739199999894481\n",
      "time for evaluation 0.052477600000202074 \n",
      "\n",
      "time for 1st trotter-evolve 0.023034100000586477\n",
      "time for 2nd trotter-evolve 0.020110899999963294\n",
      "time for evaluation 0.06602110000039829 \n",
      "\n",
      "time for 1st trotter-evolve 0.02042689999962022\n",
      "time for 2nd trotter-evolve 0.020467700000153854\n",
      "time for evaluation 0.057320899999467656 \n",
      "\n",
      "time for 1st trotter-evolve 0.023293599999306025\n",
      "time for 2nd trotter-evolve 0.01831690000017261\n",
      "time for evaluation 0.04714169999988371 \n",
      "\n",
      "time for 1st trotter-evolve 0.014658899999631103\n",
      "time for 2nd trotter-evolve 0.013397300000178802\n",
      "time for evaluation 0.029123799999979383 \n",
      "\n",
      "time for 1st trotter-evolve 0.012626199999431265\n",
      "time for 2nd trotter-evolve 0.013826200000039535\n",
      "time for evaluation 0.04201370000009774 \n",
      "\n",
      "time for 1st trotter-evolve 0.017695600000479317\n",
      "time for 2nd trotter-evolve 0.01367610000033892\n",
      "time for evaluation 0.045846699999856355 \n",
      "\n",
      "*********\n",
      "9.020562075079397e-17 -4.2208768362706226e-38 1.882437762501521e-06\n",
      "0 1\n",
      "time for 1st trotter-evolve 0.014683700000205135\n",
      "time for 2nd trotter-evolve 0.019508899999891582\n",
      "time for evaluation 0.7476636999999755 \n",
      "\n",
      "time for 1st trotter-evolve 0.01881709999997838\n",
      "time for 2nd trotter-evolve 0.015848400000322727\n",
      "time for evaluation 0.7250702000001183 \n",
      "\n",
      "time for 1st trotter-evolve 0.015521199999966484\n",
      "time for 2nd trotter-evolve 0.012707800000498537\n",
      "time for evaluation 0.6395046999996339 \n",
      "\n",
      "time for 1st trotter-evolve 0.012190800000098534\n",
      "time for 2nd trotter-evolve 0.013387199999669974\n",
      "time for evaluation 0.6386658999999781 \n",
      "\n",
      "time for 1st trotter-evolve 0.014876999999614782\n",
      "time for 2nd trotter-evolve 0.01498009999977512\n",
      "time for evaluation 0.6556098999999449 \n",
      "\n",
      "time for 1st trotter-evolve 0.01400519999970129\n",
      "time for 2nd trotter-evolve 0.013801499999317457\n",
      "time for evaluation 0.7834152000004906 \n",
      "\n",
      "time for 1st trotter-evolve 0.017061800000192306\n",
      "time for 2nd trotter-evolve 0.01716779999969731\n",
      "time for evaluation 1.1196705000002112 \n",
      "\n",
      "time for 1st trotter-evolve 0.01826309999978548\n",
      "time for 2nd trotter-evolve 0.015856300000450574\n",
      "time for evaluation 0.7227214999993521 \n",
      "\n",
      "*********\n",
      "time for 1st trotter-evolve 0.014410099999622616\n",
      "time for 2nd trotter-evolve 0.014448200000515499\n",
      "time for evaluation 7.8163073999994594 \n",
      "\n",
      "time for 1st trotter-evolve 0.014850500000648026\n",
      "time for 2nd trotter-evolve 0.016294099999868195\n",
      "time for evaluation 7.4171266000003016 \n",
      "\n",
      "time for 1st trotter-evolve 0.014185900000484253\n",
      "time for 2nd trotter-evolve 0.014253600000301958\n",
      "time for evaluation 1.3058178999999654 \n",
      "\n",
      "time for 1st trotter-evolve 0.01255479999963427\n",
      "time for 2nd trotter-evolve 0.015076800000315416\n",
      "time for evaluation 1.2291678000001411 \n",
      "\n",
      "time for 1st trotter-evolve 0.013608799999929033\n",
      "time for 2nd trotter-evolve 0.015043499999592314\n",
      "time for evaluation 7.484721200000422 \n",
      "\n",
      "time for 1st trotter-evolve 0.015135900000132096\n",
      "time for 2nd trotter-evolve 0.013929900000221096\n",
      "time for evaluation 7.569380599999931 \n",
      "\n",
      "time for 1st trotter-evolve 0.013721600000280887\n",
      "time for 2nd trotter-evolve 0.015387500000542786\n",
      "time for evaluation 1.2211207000000286 \n",
      "\n",
      "time for 1st trotter-evolve 0.014227899999241345\n",
      "time for 2nd trotter-evolve 0.014510199999676843\n",
      "time for evaluation 1.2172592999995686 \n",
      "\n",
      "*********\n",
      "0.1873391287283662 0.18740278114761227 1.2772916874181917e-07\n",
      "0 2\n",
      "time for 1st trotter-evolve 0.0162332999998398\n",
      "time for 2nd trotter-evolve 0.013474500000484113\n",
      "time for evaluation 1.2857005999994726 \n",
      "\n",
      "time for 1st trotter-evolve 0.016729299999497016\n",
      "time for 2nd trotter-evolve 0.015291799999431532\n",
      "time for evaluation 1.256489700000202 \n",
      "\n",
      "time for 1st trotter-evolve 0.012120499999582535\n",
      "time for 2nd trotter-evolve 0.015010799999799929\n",
      "time for evaluation 1.2136171000001923 \n",
      "\n",
      "time for 1st trotter-evolve 0.01297580000027665\n",
      "time for 2nd trotter-evolve 0.013175000000046566\n",
      "time for evaluation 1.2932640000008178 \n",
      "\n",
      "time for 1st trotter-evolve 0.013570099999924423\n",
      "time for 2nd trotter-evolve 0.013842300000760588\n",
      "time for evaluation 1.2629823999996006 \n",
      "\n",
      "time for 1st trotter-evolve 0.015898999999990338\n",
      "time for 2nd trotter-evolve 0.01395570000022417\n",
      "time for evaluation 1.2336560999992798 \n",
      "\n",
      "time for 1st trotter-evolve 0.014783599999645958\n",
      "time for 2nd trotter-evolve 0.01324919999933627\n",
      "time for evaluation 1.2638721000002988 \n",
      "\n",
      "time for 1st trotter-evolve 0.015943200000037905\n",
      "time for 2nd trotter-evolve 0.013475599999765109\n",
      "time for evaluation 1.2903282000006584 \n",
      "\n",
      "*********\n",
      "time for 1st trotter-evolve 0.019450799999503943\n",
      "time for 2nd trotter-evolve 0.016542499999559368\n",
      "time for evaluation 47.86372449999999 \n",
      "\n",
      "time for 1st trotter-evolve 0.015551600000435428\n",
      "time for 2nd trotter-evolve 0.014989500000410771\n",
      "time for evaluation 30.746864699999605 \n",
      "\n",
      "time for 1st trotter-evolve 0.014337599999635131\n",
      "time for 2nd trotter-evolve 0.014443300000493764\n",
      "time for evaluation 2.3797945999995136 \n",
      "\n",
      "time for 1st trotter-evolve 0.012752700000419281\n",
      "time for 2nd trotter-evolve 0.01463530000000901\n",
      "time for evaluation 2.6487551999998686 \n",
      "\n",
      "time for 1st trotter-evolve 0.013308999999935622\n",
      "time for 2nd trotter-evolve 0.013911400000324647\n",
      "time for evaluation 30.520046499999808 \n",
      "\n",
      "time for 1st trotter-evolve 0.01761290000013105\n",
      "time for 2nd trotter-evolve 0.016058700000030512\n",
      "time for evaluation 34.07133630000044 \n",
      "\n",
      "time for 1st trotter-evolve 0.015228599999318249\n",
      "time for 2nd trotter-evolve 0.015814100000170583\n",
      "time for evaluation 2.772203300000001 \n",
      "\n",
      "time for 1st trotter-evolve 0.014586799999960931\n",
      "time for 2nd trotter-evolve 0.015972199999851\n",
      "time for evaluation 2.6354771999995137 \n",
      "\n",
      "*********\n",
      "0.10450326021094528 0.10437952842954897 -1.982375922027213e-07\n",
      "0 3\n",
      "time for 1st trotter-evolve 0.013006799999857321\n",
      "time for 2nd trotter-evolve 0.013464999999996508\n",
      "time for evaluation 2.0169089999999414 \n",
      "\n",
      "time for 1st trotter-evolve 0.014113700000052631\n",
      "time for 2nd trotter-evolve 0.014429199999540288\n",
      "time for evaluation 1.8438627000005 \n",
      "\n",
      "time for 1st trotter-evolve 0.013728999999329972\n",
      "time for 2nd trotter-evolve 0.01527070000065578\n",
      "time for evaluation 1.901201000000583 \n",
      "\n",
      "time for 1st trotter-evolve 0.012633600000299339\n",
      "time for 2nd trotter-evolve 0.012960000000020955\n",
      "time for evaluation 1.795073099999172 \n",
      "\n",
      "time for 1st trotter-evolve 0.012971299999662733\n",
      "time for 2nd trotter-evolve 0.013824700000441226\n",
      "time for evaluation 2.0302568999995856 \n",
      "\n",
      "time for 1st trotter-evolve 0.012705499999356107\n",
      "time for 2nd trotter-evolve 0.014861899999232264\n",
      "time for evaluation 1.989235600000029 \n",
      "\n",
      "time for 1st trotter-evolve 0.014600800000152958\n",
      "time for 2nd trotter-evolve 0.013801299999613548\n",
      "time for evaluation 2.1147264000001087 \n",
      "\n",
      "time for 1st trotter-evolve 0.013106500000503729\n",
      "time for 2nd trotter-evolve 0.013536000000385684\n",
      "time for evaluation 2.4268341999995755 \n",
      "\n",
      "*********\n",
      "time for 1st trotter-evolve 0.02478289999999106\n",
      "time for 2nd trotter-evolve 0.02804900000046473\n",
      "time for evaluation 71.33778679999978 \n",
      "\n",
      "time for 1st trotter-evolve 0.013023600000451552\n",
      "time for 2nd trotter-evolve 0.014219499999853724\n"
     ]
    },
    {
     "name": "stdout",
     "output_type": "stream",
     "text": [
      "time for evaluation 74.8061645000007 \n",
      "\n",
      "time for 1st trotter-evolve 0.01674029999958293\n",
      "time for 2nd trotter-evolve 0.014937400000235357\n",
      "time for evaluation 3.8238835000001927 \n",
      "\n",
      "time for 1st trotter-evolve 0.016339400000106252\n",
      "time for 2nd trotter-evolve 0.01634100000046601\n",
      "time for evaluation 3.895923500000208 \n",
      "\n",
      "time for 1st trotter-evolve 0.014569699999810837\n",
      "time for 2nd trotter-evolve 0.016554899999391637\n",
      "time for evaluation 73.49333729999944 \n",
      "\n",
      "time for 1st trotter-evolve 0.01610400000026857\n",
      "time for 2nd trotter-evolve 0.01970439999968221\n",
      "time for evaluation 75.17579530000057 \n",
      "\n",
      "time for 1st trotter-evolve 0.02742279999984021\n",
      "time for 2nd trotter-evolve 0.027538299999832816\n",
      "time for evaluation 5.225064699999166 \n",
      "\n",
      "time for 1st trotter-evolve 0.01552689999971335\n",
      "time for 2nd trotter-evolve 0.016313900000568538\n",
      "time for evaluation 6.3301031999999395 \n",
      "\n",
      "*********\n",
      "0.10112390795366412 0.10033588552956518 -1.1595610624193231e-06\n",
      "0 4\n",
      "time for 1st trotter-evolve 0.015517799999543058\n",
      "time for 2nd trotter-evolve 0.01752649999980349\n",
      "time for evaluation 2.7749917000001005 \n",
      "\n",
      "time for 1st trotter-evolve 0.013944199999968987\n",
      "time for 2nd trotter-evolve 0.013183300000491727\n",
      "time for evaluation 2.522957000000133 \n",
      "\n",
      "time for 1st trotter-evolve 0.01667300000008254\n",
      "time for 2nd trotter-evolve 0.016667599999891536\n",
      "time for evaluation 2.457885599999827 \n",
      "\n",
      "time for 1st trotter-evolve 0.018115300000317802\n",
      "time for 2nd trotter-evolve 0.014742200000000594\n",
      "time for evaluation 2.687755900000411 \n",
      "\n",
      "time for 1st trotter-evolve 0.014584399999876041\n",
      "time for 2nd trotter-evolve 0.012821700000131386\n",
      "time for evaluation 2.587234499999795 \n",
      "\n",
      "time for 1st trotter-evolve 0.013484699999935401\n",
      "time for 2nd trotter-evolve 0.015656399999897985\n",
      "time for evaluation 3.7055248999995456 \n",
      "\n",
      "time for 1st trotter-evolve 0.01683630000025005\n",
      "time for 2nd trotter-evolve 0.018440599999848928\n",
      "time for evaluation 4.2123746999996 \n",
      "\n",
      "time for 1st trotter-evolve 0.018532500000219443\n",
      "time for 2nd trotter-evolve 0.017240600000150152\n",
      "time for evaluation 3.193152800000462 \n",
      "\n",
      "*********\n",
      "time for 1st trotter-evolve 0.015041399999972782\n",
      "time for 2nd trotter-evolve 0.016110200000184705\n",
      "time for evaluation 112.75167949999923 \n",
      "\n",
      "time for 1st trotter-evolve 0.01255709999895771\n",
      "time for 2nd trotter-evolve 0.014051199999812525\n",
      "time for evaluation 127.98525940000036 \n",
      "\n",
      "time for 1st trotter-evolve 0.012824900000850903\n",
      "time for 2nd trotter-evolve 0.014759699999558507\n",
      "time for evaluation 4.900342400000227 \n",
      "\n",
      "time for 1st trotter-evolve 0.013762800001131836\n",
      "time for 2nd trotter-evolve 0.014452499999606516\n",
      "time for evaluation 5.930740800000422 \n",
      "\n",
      "time for 1st trotter-evolve 0.016413299999840092\n",
      "time for 2nd trotter-evolve 0.016323699999702512\n",
      "time for evaluation 677.0017320000006 \n",
      "\n",
      "time for 1st trotter-evolve 0.013283700000101817\n",
      "time for 2nd trotter-evolve 0.0150298999997176\n",
      "time for evaluation 109.87398800000119 \n",
      "\n",
      "time for 1st trotter-evolve 0.012977499998669373\n",
      "time for 2nd trotter-evolve 0.013750800000707386\n",
      "time for evaluation 4.796488599999066 \n",
      "\n",
      "time for 1st trotter-evolve 0.014951999999539112\n",
      "time for 2nd trotter-evolve 0.01638490000004822\n",
      "time for evaluation 4.701781499999925 \n",
      "\n",
      "*********\n",
      "-0.18589980842592244 -0.1869178626325833 -1.2348276354767762e-06\n",
      "0 5\n",
      "time for 1st trotter-evolve 0.012324100000114413\n",
      "time for 2nd trotter-evolve 0.012069100001099287\n",
      "time for evaluation 2.9569735000004584 \n",
      "\n",
      "time for 1st trotter-evolve 0.011443399998825043\n",
      "time for 2nd trotter-evolve 0.011904699998922297\n",
      "time for evaluation 2.960418299999219 \n",
      "\n",
      "time for 1st trotter-evolve 0.012988800001039635\n",
      "time for 2nd trotter-evolve 0.013185399999201763\n",
      "time for evaluation 3.0125686999999743 \n",
      "\n",
      "time for 1st trotter-evolve 0.012463299999581068\n",
      "time for 2nd trotter-evolve 0.01246250000076543\n",
      "time for evaluation 2.9324027999991813 \n",
      "\n",
      "time for 1st trotter-evolve 0.011376700000255369\n",
      "time for 2nd trotter-evolve 0.012420899998687673\n",
      "time for evaluation 2.957064000000173 \n",
      "\n",
      "time for 1st trotter-evolve 0.0139870000002702\n",
      "time for 2nd trotter-evolve 0.013044700001046294\n",
      "time for evaluation 2.99128969999947 \n",
      "\n",
      "time for 1st trotter-evolve 0.014066199999433593\n",
      "time for 2nd trotter-evolve 0.012988899999982095\n",
      "time for evaluation 3.072964000000866 \n",
      "\n",
      "time for 1st trotter-evolve 0.017370200001096237\n",
      "time for 2nd trotter-evolve 0.015190799998890725\n",
      "time for evaluation 3.072175799999968 \n",
      "\n",
      "*********\n",
      "time for 1st trotter-evolve 0.012311799999224604\n",
      "time for 2nd trotter-evolve 0.012858000000051106\n",
      "time for evaluation 171.20610730000044 \n",
      "\n",
      "time for 1st trotter-evolve 0.013317599999936647\n",
      "time for 2nd trotter-evolve 0.013850900000761612\n",
      "time for evaluation 169.3482000999993 \n",
      "\n",
      "time for 1st trotter-evolve 0.013320900001417613\n",
      "time for 2nd trotter-evolve 0.0133096999998088\n",
      "time for evaluation 5.853882200000953 \n",
      "\n",
      "time for 1st trotter-evolve 0.013151699999070843\n",
      "time for 2nd trotter-evolve 0.01554289999876346\n",
      "time for evaluation 5.9727034000006824 \n",
      "\n",
      "time for 1st trotter-evolve 0.01432060000115598\n",
      "time for 2nd trotter-evolve 0.015208299999358132\n",
      "time for evaluation 170.13254380000035 \n",
      "\n",
      "time for 1st trotter-evolve 0.014665900000181864\n",
      "time for 2nd trotter-evolve 0.014683999999761\n",
      "time for evaluation 218.1490683999982 \n",
      "\n",
      "time for 1st trotter-evolve 0.01666769999974349\n",
      "time for 2nd trotter-evolve 0.020656400000007125\n",
      "time for evaluation 8.051148299999113 \n",
      "\n",
      "time for 1st trotter-evolve 0.021358399999371613\n",
      "time for 2nd trotter-evolve 0.021460100000695093\n",
      "time for evaluation 7.953878000000259 \n",
      "\n",
      "*********\n",
      "-0.1513697046946643 -0.15056513887582815 8.855997995077525e-07\n",
      "0 6\n",
      "time for 1st trotter-evolve 0.015819700000065495\n",
      "time for 2nd trotter-evolve 0.01693410000007134\n",
      "time for evaluation 4.7395753000000695 \n",
      "\n",
      "time for 1st trotter-evolve 0.016870299999936833\n",
      "time for 2nd trotter-evolve 0.017848900000899448\n",
      "time for evaluation 4.721915899999658 \n",
      "\n",
      "time for 1st trotter-evolve 0.016752900000938098\n",
      "time for 2nd trotter-evolve 0.01759230000061507\n",
      "time for evaluation 4.7140904999996565 \n",
      "\n",
      "time for 1st trotter-evolve 0.017530800001622993\n",
      "time for 2nd trotter-evolve 0.01749009999912232\n",
      "time for evaluation 4.686917199998788 \n",
      "\n",
      "time for 1st trotter-evolve 0.015560199999526958\n",
      "time for 2nd trotter-evolve 0.01697249999961059\n",
      "time for evaluation 4.70999699999993 \n",
      "\n",
      "time for 1st trotter-evolve 0.01628320000054373\n",
      "time for 2nd trotter-evolve 0.01722440000048664\n",
      "time for evaluation 4.770318900000348 \n",
      "\n",
      "time for 1st trotter-evolve 0.01795289999972738\n",
      "time for 2nd trotter-evolve 0.017556500000864617\n",
      "time for evaluation 4.776355300000432 \n",
      "\n",
      "time for 1st trotter-evolve 0.01648360000035609\n",
      "time for 2nd trotter-evolve 0.017334799998934614\n",
      "time for evaluation 4.828282800001034 \n",
      "\n",
      "*********\n",
      "time for 1st trotter-evolve 0.01816020000114804\n",
      "time for 2nd trotter-evolve 0.01877039999999397\n",
      "time for evaluation 325.6932694999996 \n",
      "\n",
      "time for 1st trotter-evolve 0.01912809999885212\n",
      "time for 2nd trotter-evolve 0.01974750000044878\n",
      "time for evaluation 249.51043680000112 \n",
      "\n",
      "time for 1st trotter-evolve 0.015054999999847496\n",
      "time for 2nd trotter-evolve 0.01826920000166865\n",
      "time for evaluation 7.082725700000083 \n",
      "\n",
      "time for 1st trotter-evolve 0.014849499999399995\n",
      "time for 2nd trotter-evolve 0.015330399999584188\n",
      "time for evaluation 7.184317799999917 \n",
      "\n",
      "time for 1st trotter-evolve 0.013593800000307965\n",
      "time for 2nd trotter-evolve 0.015184199999566772\n",
      "time for evaluation 305.8765855999991 \n",
      "\n",
      "time for 1st trotter-evolve 0.017311700001300778\n",
      "time for 2nd trotter-evolve 0.01823540000077628\n",
      "time for evaluation 328.30955129999893 \n",
      "\n",
      "time for 1st trotter-evolve 0.017336700000669225\n",
      "time for 2nd trotter-evolve 0.019107300000541727\n",
      "time for evaluation 9.499238500000502 \n",
      "\n",
      "time for 1st trotter-evolve 0.017005699999572244\n",
      "time for 2nd trotter-evolve 0.018253399999593967\n",
      "time for evaluation 9.498679399999673 \n",
      "\n",
      "*********\n",
      "-0.05095479674990981 -0.05002151284859621 5.224540045589698e-07\n",
      "0 7\n",
      "time for 1st trotter-evolve 0.016656899999361485\n",
      "time for 2nd trotter-evolve 0.016949499999100226\n",
      "time for evaluation 5.0582861000002595 \n",
      "\n",
      "time for 1st trotter-evolve 0.01396520000162127\n",
      "time for 2nd trotter-evolve 0.014826200000243261\n",
      "time for evaluation 4.2830883000006 \n",
      "\n",
      "time for 1st trotter-evolve 0.013004000000364613\n",
      "time for 2nd trotter-evolve 0.015019299999039504\n",
      "time for evaluation 4.264036300000953 \n",
      "\n",
      "time for 1st trotter-evolve 0.01259100000061153\n",
      "time for 2nd trotter-evolve 0.013409499999397667\n"
     ]
    },
    {
     "name": "stdout",
     "output_type": "stream",
     "text": [
      "time for evaluation 4.303654200000892 \n",
      "\n",
      "time for 1st trotter-evolve 0.014291600000433391\n",
      "time for 2nd trotter-evolve 0.015031700000690762\n",
      "time for evaluation 4.233255899998767 \n",
      "\n",
      "time for 1st trotter-evolve 0.014360200000737677\n",
      "time for 2nd trotter-evolve 0.015301700001145946\n",
      "time for evaluation 4.177707499999087 \n",
      "\n",
      "time for 1st trotter-evolve 0.014168899999276618\n",
      "time for 2nd trotter-evolve 0.015002399999502813\n",
      "time for evaluation 4.185051600001316 \n",
      "\n",
      "time for 1st trotter-evolve 0.012795099999493686\n",
      "time for 2nd trotter-evolve 0.013103499999488122\n",
      "time for evaluation 4.239197799999602 \n",
      "\n",
      "*********\n",
      "time for 1st trotter-evolve 0.0140451999996003\n",
      "time for 2nd trotter-evolve 0.01330210000014631\n",
      "time for evaluation 348.0103851999993 \n",
      "\n",
      "time for 1st trotter-evolve 0.021142800000234274\n",
      "time for 2nd trotter-evolve 0.018798400000378024\n",
      "time for evaluation 442.93492569999944 \n",
      "\n",
      "time for 1st trotter-evolve 0.016848499999468913\n",
      "time for 2nd trotter-evolve 0.01892530000077386\n",
      "time for evaluation 10.997008800000913 \n",
      "\n",
      "time for 1st trotter-evolve 0.01755120000052557\n",
      "time for 2nd trotter-evolve 0.018317000000024564\n",
      "time for evaluation 11.206847800000105 \n",
      "\n",
      "time for 1st trotter-evolve 0.019250800000008894\n",
      "time for 2nd trotter-evolve 0.02502459999959683\n",
      "time for evaluation 343.36939840000014 \n",
      "\n",
      "time for 1st trotter-evolve 0.013307400000485359\n",
      "time for 2nd trotter-evolve 0.013760699999693315\n",
      "time for evaluation 373.03918630000044 \n",
      "\n",
      "time for 1st trotter-evolve 0.014900000000125146\n",
      "time for 2nd trotter-evolve 0.015942400001222268\n",
      "time for evaluation 8.671444600000541 \n",
      "\n",
      "time for 1st trotter-evolve 0.022957099999985076\n",
      "time for 2nd trotter-evolve 0.022042500000679865\n",
      "time for evaluation 8.931798399999025 \n",
      "\n",
      "*********\n",
      "0.05979258224077638 0.06190464627752913 1.4749732401564408e-06\n",
      "0 8\n",
      "time for 1st trotter-evolve 0.014383200001248042\n",
      "time for 2nd trotter-evolve 0.012694200000623823\n",
      "time for evaluation 4.839180099999794 \n",
      "\n",
      "time for 1st trotter-evolve 0.015149400000154856\n",
      "time for 2nd trotter-evolve 0.015131699999983539\n",
      "time for evaluation 4.800472599999921 \n",
      "\n",
      "time for 1st trotter-evolve 0.01362679999874672\n",
      "time for 2nd trotter-evolve 0.01611880000018573\n",
      "time for evaluation 4.925557200000185 \n",
      "\n",
      "time for 1st trotter-evolve 0.014399100000446197\n",
      "time for 2nd trotter-evolve 0.01489690000016708\n",
      "time for evaluation 4.786646600001404 \n",
      "\n",
      "time for 1st trotter-evolve 0.012182700000266777\n",
      "time for 2nd trotter-evolve 0.01352740000038466\n",
      "time for evaluation 4.780072600000494 \n",
      "\n",
      "time for 1st trotter-evolve 0.012284299999009818\n",
      "time for 2nd trotter-evolve 0.014553599999999278\n",
      "time for evaluation 4.865886100000353 \n",
      "\n",
      "time for 1st trotter-evolve 0.01487029999952938\n",
      "time for 2nd trotter-evolve 0.015215100000204984\n",
      "time for evaluation 4.7216833000002225 \n",
      "\n",
      "time for 1st trotter-evolve 0.01255719999971916\n",
      "time for 2nd trotter-evolve 0.015113899999050773\n",
      "time for evaluation 4.7325677000008 \n",
      "\n",
      "*********\n",
      "time for 1st trotter-evolve 0.016491799999130308\n",
      "time for 2nd trotter-evolve 0.015317999999751919\n",
      "time for evaluation 472.8724164000014 \n",
      "\n",
      "time for 1st trotter-evolve 0.01393399999869871\n",
      "time for 2nd trotter-evolve 0.0137207000007038\n",
      "time for evaluation 527.6833051000012 \n",
      "\n",
      "time for 1st trotter-evolve 0.018655600000784034\n",
      "time for 2nd trotter-evolve 0.01860610000039742\n",
      "time for evaluation 11.47166660000039 \n",
      "\n",
      "time for 1st trotter-evolve 0.018892899999627843\n",
      "time for 2nd trotter-evolve 0.01873169999998936\n",
      "time for evaluation 11.591245999999956 \n",
      "\n",
      "time for 1st trotter-evolve 0.014968599998610443\n",
      "time for 2nd trotter-evolve 0.013620100000480306\n"
     ]
    }
   ],
   "source": [
    "import numpy\n",
    "from tqdm import tqdm\n",
    "T_arr=numpy.arange(0,32.8,0.8)\n",
    "tau_arr=numpy.arange(0,32.8,0.8)\n",
    "T1,tau1=numpy.meshgrid(T_arr,tau_arr)\n",
    "G2_path1=numpy.zeros((41,41))*1j\n",
    "f=open('2d_green_func_complete1.txt','w')\n",
    "f.write('\\langle G|[e^{iH(T+\\tau)}(II-IZ)e^{-iH(T+\\tau)},e^{iHT}(IX-iIY)e^{-iHT}],(IX+iIY)]|G\\rangle\\n')\n",
    "f.write('T   tau   G(real)   G(Imag)\\n')\n",
    "f.close()\n",
    "for i in tqdm(range(len(T_arr))):\n",
    "    for j in range(len(tau_arr)):\n",
    "        T=T_arr[i]\n",
    "        tau=tau_arr[j]\n",
    "        print(i,j)\n",
    "        G_method2_val=G_method2_complete(T,tau)\n",
    "        G_method1_val=G_method1_complete(T,tau)\n",
    "        print(G_method2_val,G_method1_val.imag,G_method1_val.real)\n",
    "        with open('2d_green_func_complete1.txt','a') as f:\n",
    "            print('{:.1f}'.format(T)+' '+'{:.1f}'.format(tau)+'     {:.6f}'.format(G_method2_val),file=f)"
   ]
  },
  {
   "cell_type": "code",
   "execution_count": 26,
   "metadata": {},
   "outputs": [],
   "source": [
    "G_FT=numpy.fft.fftshift(numpy.fft.fft2(G_imagArr))\n",
    "omg = numpy.fft.fftshift(numpy.fft.fftfreq(len(G_imagArr), d=T[1]-T[0]))"
   ]
  },
  {
   "cell_type": "code",
   "execution_count": 63,
   "metadata": {},
   "outputs": [
    {
     "name": "stderr",
     "output_type": "stream",
     "text": [
      "100%|██████████| 99/99 [00:05<00:00, 18.19it/s]\n"
     ]
    }
   ],
   "source": [
    "f1=open('2d_green_func_freq_resp.txt','w')\n",
    "f1.write('G(omg_tau,omg_T)')\n",
    "f1.write('omg1  omg2   G(real)   G(Imag)\\n')\n",
    "f1.close()\n",
    "for i in tqdm(range(len(omg))):\n",
    "    for j in range(len(omg)):\n",
    "        with open('2d_green_func_freq_resp.txt','a') as f:\n",
    "            print('{:.7f}'.format(2*numpy.pi*omg[i])+' '+'{:.7f}'.format(2*numpy.pi*omg[j])+'     {:.6f}'.format(G_FT[i,j].real)+'     {:.6f}'.format(G_FT[i,j].imag),file=f)"
   ]
  },
  {
   "cell_type": "code",
   "execution_count": 15,
   "metadata": {},
   "outputs": [],
   "source": [
    "with open('2d_green_func_complete.txt','r') as f:\n",
    "    lines=f.readlines()\n",
    "    T_arr=[]\n",
    "    tau_arr=[]\n",
    "    G_imag=numpy.zeros((50,50))*1j\n",
    "    cnt1=0\n",
    "    cnt2=0\n",
    "    for i in range(2,len(lines)):\n",
    "        elems=lines[i].split()\n",
    "        if (((i-2)%50==0) or (i==0)):\n",
    "            cnt1=0\n",
    "            cnt2=i//50\n",
    "        else:\n",
    "            cnt1=cnt1+1\n",
    "        G_imag[cnt1][cnt2]=float(elems[2])  \n",
    "        "
   ]
  },
  {
   "cell_type": "code",
   "execution_count": null,
   "metadata": {},
   "outputs": [],
   "source": [
    "with open('2d_green_func_freq_resp.txt','r') as f:\n",
    "    lines=f.readlines()\n",
    "    omg1_arr=numpy.zeros(99)\n",
    "    omg2_arr=[]\n",
    "    G_imag=numpy.zeros((99,99))*1j\n",
    "    cnt1=0\n",
    "    cnt2=0\n",
    "    for i in range(2,len(lines)):\n",
    "        elems=lines[i].split()\n",
    "        if (((i-2)%99==0) or (i==0)):\n",
    "            cnt1=0\n",
    "            cnt2=i//99\n",
    "        else:\n",
    "            cnt1=cnt1+1\n",
    "        omg1_arr[cnt1]=float(elems[0])\n",
    "        omg1_arr[cnt2]=float(elems[1])\n",
    "        G_imag[cnt1][cnt2]=float(elems[2])  "
   ]
  },
  {
   "cell_type": "code",
   "execution_count": 16,
   "metadata": {},
   "outputs": [],
   "source": [
    "T_new=numpy.concatenate([numpy.arange(0,-10,-0.2)[1:][::-1],numpy.arange(0,10,0.2)])\n",
    "tau_new=numpy.concatenate([numpy.arange(0,-10,-0.2)[1:][::-1],numpy.arange(0,10,0.2)])\n",
    "T1,tau1=numpy.meshgrid(T_new,tau_new)\n",
    "G_imagArr=numpy.block([[numpy.zeros((50,50)),numpy.zeros((50,50))],[numpy.zeros((50,50)),G_imag]])\n",
    "G_imagArr=G_imagArr[:-1,:-1]"
   ]
  },
  {
   "cell_type": "code",
   "execution_count": null,
   "metadata": {},
   "outputs": [],
   "source": []
  },
  {
   "cell_type": "code",
   "execution_count": 17,
   "metadata": {},
   "outputs": [
    {
     "data": {
      "image/png": "[encoded data removed]",
      "text/plain": [
       "<Figure size 648x576 with 2 Axes>"
      ]
     },
     "metadata": {
      "needs_background": "light"
     },
     "output_type": "display_data"
    }
   ],
   "source": [
    "figure,ax=plt.subplots(1,1,figsize=(9,8))\n",
    "CS=ax.contourf(T1,tau1,G_imagArr,levels=5,cmap='hot')\n",
    "ax.set_xlabel('T',fontsize=15)\n",
    "ax.set_ylabel(r'$\\tau$',fontsize=15)\n",
    "ax.tick_params(labelsize=15)\n",
    "figure.colorbar(CS,ax=ax, orientation = 'horizontal')\n",
    "ax.set_title(r'$\\frac{1}{16}Im\\langle G|[e^{iH(T+\\tau)}(II-IZ)e^{-iH(T+\\tau)},e^{iHT}(IX-iIY)e^{-iHT}],(IX+iIY)]|G\\rangle$',fontsize=15)\n",
    "plt.savefig('NonlinearResponse-2siteHubbard_U=2_t=1.png')"
   ]
  },
  {
   "cell_type": "code",
   "execution_count": 18,
   "metadata": {},
   "outputs": [],
   "source": [
    "def fourierTransform2D(f,T,tau):\n",
    "    n=len(f)\n",
    "    X,Y=numpy.meshgrid(numpy.arange(n),numpy.arange(n),indexing='ij')\n",
    "    dT=T[1]-T[0]\n",
    "    dtau=tau[1]-tau[0]\n",
    "    omg1=numpy.linspace(-0.5/dT,0.5/dT,len(T))\n",
    "    omg2=numpy.linspace(-0.5/dT,0.5/dT,len(tau))\n",
    "    f_FT=numpy.zeros((len(omg1),len(omg2)))*1j\n",
    "    for i in range(n):\n",
    "        for j in range(n):\n",
    "            exp_omg_T=numpy.exp(-2j*numpy.pi*(i*X+j*Y)/n)\n",
    "            f_FT[i,j]=numpy.sum(exp_omg_T*f)\n",
    "    return omg1,omg2,f_FT"
   ]
  },
  {
   "cell_type": "code",
   "execution_count": 19,
   "metadata": {},
   "outputs": [],
   "source": [
    "def fourierTransform1D(f,T):\n",
    "    n=len(f)\n",
    "    dT=T[1]-T[0]\n",
    "    omg=numpy.linspace(-0.5/dT,0.5/dT,len(T))\n",
    "    f_FT=numpy.zeros((len(omg)))*1j\n",
    "    for k in range(n):\n",
    "        f_FT[k]=np.sum(f * np.exp(-2j * np.pi * k * numpy.arange(n)/n))\n",
    "    omg=numpy.fft.fftshift(omg)    \n",
    "    f_FT=numpy.fft.fftshift(f_FT)    \n",
    "    return omg,f_FT"
   ]
  },
  {
   "cell_type": "code",
   "execution_count": 76,
   "metadata": {},
   "outputs": [],
   "source": [
    "# x=numpy.concatenate([numpy.arange(0,-10,-0.2)[1:][::-1],numpy.arange(0,10,0.2)])\n",
    "# f=numpy.concatenate([numpy.zeros(len(x)//2+1),numpy.ones(len(x)//2)])\n",
    "# omg,f_FT=fourierTransform1D(f,x)\n",
    "# f_FT2=numpy.fft.fftshift(numpy.fft.fft(f))\n",
    "# omg = numpy.fft.fftshift(numpy.fft.fftfreq(len(f), d=x[1]-x[0]))\n",
    "# figure,ax=plt.subplots(1,1,figsize=(9,8))\n",
    "# ax.plot(omg,f_FT2.imag)\n",
    "# ax.plot(omg,f_FT.imag)\n",
    "# ax.set_xlabel(r'$\\omega$',fontsize=15)"
   ]
  },
  {
   "cell_type": "code",
   "execution_count": 77,
   "metadata": {},
   "outputs": [],
   "source": [
    "# x=numpy.concatenate([numpy.arange(0,-10,-0.1)[1:][::-1],numpy.arange(0,10,0.1)])\n",
    "# y=numpy.concatenate([numpy.arange(0,-10,-0.1)[1:][::-1],numpy.arange(0,10,0.1)])\n",
    "# f=numpy.block([[numpy.zeros((100,100)),numpy.zeros((100,100))],[numpy.zeros((100,100)),numpy.ones((100,100))]])\n",
    "# f=f[:-1,:-1]\n",
    "# omg1,omg2,f_FT=fourierTransform2D(f,x,y)\n",
    "# f_FT=numpy.fft.fftshift(f_FT)\n",
    "# f_FT2=numpy.fft.fftshift(numpy.fft.fft2(f))\n",
    "# omg = numpy.fft.fftshift(numpy.fft.fftfreq(len(f), d=x[1]-x[0]))"
   ]
  },
  {
   "cell_type": "code",
   "execution_count": 78,
   "metadata": {},
   "outputs": [],
   "source": [
    "# figure,ax=plt.subplots(1,2,figsize=(16,8))\n",
    "# CS=ax[0].contourf(f_FT.imag,extent=[-2.5,2.5,-2.5,2.5],interpolation='none',cmap='hot')\n",
    "# ax[0].set_xlabel(r'$\\omega_{T}$',fontsize=15)\n",
    "# ax[0].set_ylabel(r'$\\omega_{\\tau}$',fontsize=15)\n",
    "# ax[0].tick_params(labelsize=15)\n",
    "# figure.colorbar(CS,ax=ax[0], orientation = 'horizontal')\n",
    "# CS=ax[1].contourf(f_FT2.imag,extent=[-2.5,2.5,-2.5,2.5],interpolation='nearest',cmap='hot')\n",
    "# ax[1].set_xlabel(r'$\\omega_{T}$',fontsize=15)\n",
    "# ax[1].set_ylabel(r'$\\omega_{\\tau}$',fontsize=15)\n",
    "# ax[1].tick_params(labelsize=15)\n",
    "# figure.colorbar(CS,ax=ax[1], orientation = 'horizontal')"
   ]
  },
  {
   "cell_type": "code",
   "execution_count": 43,
   "metadata": {},
   "outputs": [
    {
     "data": {
      "text/plain": [
       "0.2525252525252525"
      ]
     },
     "execution_count": 43,
     "metadata": {},
     "output_type": "execute_result"
    }
   ],
   "source": []
  },
  {
   "cell_type": "code",
   "execution_count": 20,
   "metadata": {},
   "outputs": [],
   "source": [
    "T=numpy.concatenate([numpy.arange(0,-10,-0.2)[1:][::-1],numpy.arange(0,10,0.2)])\n",
    "tau=numpy.concatenate([numpy.arange(0,-10,-0.2)[1:][::-1],numpy.arange(0,10,0.2)])\n",
    "omg1,omg2,G2_FT=fourierTransform2D(G_imagArr,T,tau)\n",
    "G2_FT=numpy.fft.fftshift(G2_FT)"
   ]
  },
  {
   "cell_type": "code",
   "execution_count": 56,
   "metadata": {},
   "outputs": [],
   "source": [
    "G_FT=numpy.fft.fftshift(numpy.fft.fft2(G_imagArr))\n",
    "omg = numpy.fft.fftshift(numpy.fft.fftfreq(len(G_imagArr), d=T[1]-T[0]))"
   ]
  },
  {
   "cell_type": "code",
   "execution_count": 41,
   "metadata": {},
   "outputs": [
    {
     "data": {
      "text/plain": [
       "0.1999999999999993"
      ]
     },
     "execution_count": 41,
     "metadata": {},
     "output_type": "execute_result"
    }
   ],
   "source": [
    "len(G_imagArr)\n",
    "d=T[1]-T[0]\n",
    "d"
   ]
  },
  {
   "cell_type": "code",
   "execution_count": 52,
   "metadata": {},
   "outputs": [
    {
     "data": {
      "text/plain": [
       "99"
      ]
     },
     "execution_count": 52,
     "metadata": {},
     "output_type": "execute_result"
    }
   ],
   "source": [
    "len(G_FT)"
   ]
  },
  {
   "cell_type": "code",
   "execution_count": 60,
   "metadata": {},
   "outputs": [
    {
     "data": {
      "text/plain": [
       "array([-15.70796327,  15.70796327, -15.70796327,  15.70796327])"
      ]
     },
     "execution_count": 60,
     "metadata": {},
     "output_type": "execute_result"
    }
   ],
   "source": [
    "2*numpy.pi*numpy.array([-2.5,2.5,-2.5,2.5])"
   ]
  },
  {
   "cell_type": "code",
   "execution_count": 62,
   "metadata": {},
   "outputs": [
    {
     "data": {
      "text/plain": [
       "<matplotlib.colorbar.Colorbar at 0x7fae001b2220>"
      ]
     },
     "execution_count": 62,
     "metadata": {},
     "output_type": "execute_result"
    },
    {
     "data": {
      "image/png": "[encoded data removed]",
      "text/plain": [
       "<Figure size 1152x576 with 4 Axes>"
      ]
     },
     "metadata": {
      "needs_background": "light"
     },
     "output_type": "display_data"
    }
   ],
   "source": [
    "import matplotlib.pyplot as plt\n",
    "G_FT=numpy.fft.fftshift(numpy.fft.fft2(G_imagArr))\n",
    "omg = numpy.fft.fftshift(numpy.fft.fftfreq(len(G_imagArr), d=T[1]-T[0]))\n",
    "fig, ax = plt.subplots(1,2,figsize=(16,8))\n",
    "ax[0].tick_params(labelsize=20)\n",
    "ax[1].tick_params(labelsize=20)\n",
    "ax[0].set_ylim([-6,6])\n",
    "ax[0].set_xlim([-6,6])\n",
    "CS=ax[0].imshow(G_FT.imag,extent=[-15.70796327,  15.70796327, -15.70796327,  15.70796327],cmap='hot',vmin=G_FT.real.min(),vmax=G_FT.real.max(),interpolation ='sinc',origin='lower')\n",
    "ax[0].set_xlabel('$\\omega_{T}$',fontsize=15)\n",
    "ax[0].set_ylabel(r'$\\omega_{\\tau}$',fontsize=15)\n",
    "ax[0].set_title(r'$Im G(\\omega_{T},\\omega_{\\tau})$',fontsize=15)\n",
    "figure.colorbar(CS,ax=ax[0], orientation = 'horizontal')\n",
    "CS=ax[1].imshow(G_FT.real,extent=[-15.70796327,  15.70796327, -15.70796327,  15.70796327],cmap='hot',vmin=G_FT.real.min(),vmax=G_FT.real.max(),interpolation ='sinc',origin='lower')\n",
    "ax[1].set_ylim([-6,6])\n",
    "ax[1].set_xlim([-6,6])\n",
    "ax[1].set_xlabel('$\\omega_{T}$',fontsize=15)\n",
    "ax[1].set_ylabel(r'$\\omega_{\\tau}$',fontsize=15)\n",
    "ax[1].set_title(r'$Re G(\\omega_{T},\\omega_{\\tau})$',fontsize=15)\n",
    "figure.colorbar(CS,ax=ax[1], orientation = 'horizontal')"
   ]
  },
  {
   "cell_type": "code",
   "execution_count": 29,
   "metadata": {},
   "outputs": [
    {
     "data": {
      "text/plain": [
       "[<matplotlib.lines.Line2D at 0x7fae7026a8b0>]"
      ]
     },
     "execution_count": 29,
     "metadata": {},
     "output_type": "execute_result"
    },
    {
     "data": {
      "image/png": "[encoded data removed]",
      "text/plain": [
       "<Figure size 1224x432 with 3 Axes>"
      ]
     },
     "metadata": {
      "needs_background": "light"
     },
     "output_type": "display_data"
    }
   ],
   "source": [
    "fig, ax = plt.subplots(1,3,figsize=(17,6))\n",
    "ax[0].plot(omg,G_FT[49].imag)\n",
    "ax[1].plot(omg,G_FT[:,49].imag)\n",
    "ax[2].plot(omg,numpy.diag(G_FT).imag)"
   ]
  },
  {
   "cell_type": "code",
   "execution_count": 65,
   "metadata": {},
   "outputs": [
    {
     "name": "stderr",
     "output_type": "stream",
     "text": [
      "100%|██████████| 99/99 [00:00<00:00, 1893.18it/s]\n"
     ]
    }
   ],
   "source": [
    "f1=open('2d_green_func_freq_respOmgT=0.txt','w')\n",
    "f1.write('G(omg_tau)')\n",
    "f1.write('omg1  omg2   G(real)   G(Imag)\\n')\n",
    "f1.close()\n",
    "for i in tqdm(range(len(omg))):\n",
    "    with open('2d_green_func_freq_respOmgT=0.txt','a') as f:\n",
    "        print('{:.7f}'.format(2*numpy.pi*omg[i])+'     {:.6f}'.format(G_FT[49][i].imag),file=f)"
   ]
  },
  {
   "cell_type": "markdown",
   "metadata": {},
   "source": [
    "## McLachlan Variational Principle\n",
    "$|\\Psi\\rangle=\\prod_{n=0}^{k-1}\\prod_{j=1}^{4}\\exp(iA_{j}\\theta_{4n+j})|0\\rangle|G\\rangle+\\prod_{n=0}^{k-1}\\prod_{j=1}^{4}\\exp(iA_{j}\\theta_{4n+j})|1\\rangle P_{1}|G\\rangle$<br>\n",
    "$p>q$<br>\n",
    "$|\\partial_{p}\\Psi\\rangle=\\prod_{j=p+1}^{4k}\\exp(i\\theta_{j}A_{j})A_{p}\\prod_{j=1}^{p}\\exp(i\\theta_{j}A_{j})|0\\rangle|G\\rangle+\\prod_{j=p+1}^{4k}\\exp(i\\theta_{j}A_{j})A_{p}\\prod_{j=1}^{p}\\exp(i\\theta_{j}A_{j})|1\\rangle P_{1}|G\\rangle$<br>\n",
    "$|\\partial_{q}\\Psi\\rangle=\\prod_{j=q+1}^{4k}\\exp(i\\theta_{j}A_{j})A_{q}\\prod_{j=1}^{q}\\exp(i\\theta_{j}A_{j})|0\\rangle|G\\rangle+\\prod_{j=q+1}^{4k}\\exp(i\\theta_{j}A_{j})A_{q}\\prod_{j=1}^{q}\\exp(i\\theta_{j}A_{j})|1\\rangle P_{1}|G\\rangle$<br>\n",
    "$\\langle\\partial_{p}\\Psi|0\\rangle\\langle 0|\\partial_{q}\\Psi\\rangle=\\langle G|\\prod_{j=p-1}^{1}\\exp(-i\\theta_{j}A_{j})A_{p}\\prod_{j=q+1}^{p-1}\\exp(i\\theta_{j}A_{j})A_{q}\\prod_{j=1}^{q}\\exp(i\\theta_{j}A_{j})|G\\rangle$"
   ]
  },
  {
   "cell_type": "code",
   "execution_count": null,
   "metadata": {},
   "outputs": [],
   "source": []
  }
 ],
 "metadata": {
  "kernelspec": {
   "display_name": "Python 3",
   "language": "python",
   "name": "python3"
  },
  "language_info": {
   "codemirror_mode": {
    "name": "ipython",
    "version": 3
   },
   "file_extension": ".py",
   "mimetype": "text/x-python",
   "name": "python",
   "nbconvert_exporter": "python",
   "pygments_lexer": "ipython3",
   "version": "3.8.3"
  }
 },
 "nbformat": 4,
 "nbformat_minor": 4
}
